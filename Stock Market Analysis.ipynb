{
 "cells": [
  {
   "cell_type": "markdown",
   "metadata": {},
   "source": [
    "<html><h1 align='center'>Data Project - Stock Market Analysis</h1></html>"
   ]
  },
  {
   "cell_type": "code",
   "execution_count": 1,
   "metadata": {},
   "outputs": [],
   "source": [
    "# Importing Pandas and Numpy\n",
    "# Importing matplotlib.pyplot,seaborn\n",
    "import pandas as pd\n",
    "import numpy as np\n",
    "from pandas import Series, DataFrame"
   ]
  },
  {
   "cell_type": "code",
   "execution_count": 2,
   "metadata": {},
   "outputs": [],
   "source": [
    "import matplotlib.pyplot as plt\n",
    "import seaborn as sns\n",
    "sns.set_style('whitegrid')\n",
    "%matplotlib inline"
   ]
  },
  {
   "cell_type": "code",
   "execution_count": 3,
   "metadata": {},
   "outputs": [
    {
     "name": "stdout",
     "output_type": "stream",
     "text": [
      "Requirement already satisfied: pandas-datareader in c:\\users\\hp\\anaconda3\\lib\\site-packages (0.9.0)Note: you may need to restart the kernel to use updated packages.\n",
      "Requirement already satisfied: requests>=2.19.0 in c:\\users\\hp\\anaconda3\\lib\\site-packages (from pandas-datareader) (2.24.0)\n",
      "Requirement already satisfied: pandas>=0.23 in c:\\users\\hp\\anaconda3\\lib\\site-packages (from pandas-datareader) (1.0.5)\n",
      "Requirement already satisfied: lxml in c:\\users\\hp\\anaconda3\\lib\\site-packages (from pandas-datareader) (4.5.2)\n",
      "Requirement already satisfied: urllib3!=1.25.0,!=1.25.1,<1.26,>=1.21.1 in c:\\users\\hp\\anaconda3\\lib\\site-packages (from requests>=2.19.0->pandas-datareader) (1.25.9)\n",
      "Requirement already satisfied: certifi>=2017.4.17 in c:\\users\\hp\\anaconda3\\lib\\site-packages (from requests>=2.19.0->pandas-datareader) (2020.6.20)\n",
      "Requirement already satisfied: chardet<4,>=3.0.2 in c:\\users\\hp\\anaconda3\\lib\\site-packages (from requests>=2.19.0->pandas-datareader) (3.0.4)\n",
      "Requirement already satisfied: idna<3,>=2.5 in c:\\users\\hp\\anaconda3\\lib\\site-packages (from requests>=2.19.0->pandas-datareader) (2.10)\n",
      "Requirement already satisfied: pytz>=2017.2 in c:\\users\\hp\\anaconda3\\lib\\site-packages (from pandas>=0.23->pandas-datareader) (2020.1)\n",
      "Requirement already satisfied: python-dateutil>=2.6.1 in c:\\users\\hp\\anaconda3\\lib\\site-packages (from pandas>=0.23->pandas-datareader) (2.8.1)\n",
      "Requirement already satisfied: numpy>=1.13.3 in c:\\users\\hp\\anaconda3\\lib\\site-packages (from pandas>=0.23->pandas-datareader) (1.18.5)\n",
      "Requirement already satisfied: six>=1.5 in c:\\users\\hp\\anaconda3\\lib\\site-packages (from python-dateutil>=2.6.1->pandas>=0.23->pandas-datareader) (1.15.0)\n",
      "\n"
     ]
    }
   ],
   "source": [
    "pip install pandas-datareader"
   ]
  },
  {
   "cell_type": "code",
   "execution_count": 4,
   "metadata": {},
   "outputs": [],
   "source": [
    "# Importing DataReader from pandas to read stock data from the internet\n",
    "import pandas_datareader as pdr\n",
    "import pandas_datareader.data as web"
   ]
  },
  {
   "cell_type": "code",
   "execution_count": 5,
   "metadata": {},
   "outputs": [],
   "source": [
    "#Import datetime for time stamps\n",
    "from datetime import datetime"
   ]
  },
  {
   "cell_type": "code",
   "execution_count": 6,
   "metadata": {},
   "outputs": [],
   "source": [
    "# Creating a list tech_list (Apple, Google, Microsoft & Amazon)\n",
    "tech_list = ['AAPL','GOOG','MSFT','AMZN']"
   ]
  },
  {
   "cell_type": "code",
   "execution_count": 7,
   "metadata": {},
   "outputs": [],
   "source": [
    "# Setting start and end time for the data graph\n",
    "# end date will be today \n",
    "# start date will be an year ago from today\n",
    "end = datetime.now()\n",
    "start = datetime(end.year-1, end.month, end.day)"
   ]
  },
  {
   "cell_type": "code",
   "execution_count": 8,
   "metadata": {},
   "outputs": [],
   "source": [
    "# For looping for grabing some data and setting it as a dataframe\n",
    "for stock in tech_list:\n",
    "    globals()[stock] = web.DataReader(stock,'yahoo',start,end)\n",
    "# the globals keyword is setting the string name to the dataframe name globally\n",
    "# so if we print out AAPL, it will print the dataframe containing the results recieved from yahoo."
   ]
  },
  {
   "cell_type": "code",
   "execution_count": 9,
   "metadata": {},
   "outputs": [
    {
     "data": {
      "text/html": [
       "<div>\n",
       "<style scoped>\n",
       "    .dataframe tbody tr th:only-of-type {\n",
       "        vertical-align: middle;\n",
       "    }\n",
       "\n",
       "    .dataframe tbody tr th {\n",
       "        vertical-align: top;\n",
       "    }\n",
       "\n",
       "    .dataframe thead th {\n",
       "        text-align: right;\n",
       "    }\n",
       "</style>\n",
       "<table border=\"1\" class=\"dataframe\">\n",
       "  <thead>\n",
       "    <tr style=\"text-align: right;\">\n",
       "      <th></th>\n",
       "      <th>High</th>\n",
       "      <th>Low</th>\n",
       "      <th>Open</th>\n",
       "      <th>Close</th>\n",
       "      <th>Volume</th>\n",
       "      <th>Adj Close</th>\n",
       "    </tr>\n",
       "    <tr>\n",
       "      <th>Date</th>\n",
       "      <th></th>\n",
       "      <th></th>\n",
       "      <th></th>\n",
       "      <th></th>\n",
       "      <th></th>\n",
       "      <th></th>\n",
       "    </tr>\n",
       "  </thead>\n",
       "  <tbody>\n",
       "    <tr>\n",
       "      <th>2020-04-21</th>\n",
       "      <td>69.312500</td>\n",
       "      <td>66.357498</td>\n",
       "      <td>69.070000</td>\n",
       "      <td>67.092499</td>\n",
       "      <td>180991600.0</td>\n",
       "      <td>66.576424</td>\n",
       "    </tr>\n",
       "    <tr>\n",
       "      <th>2020-04-22</th>\n",
       "      <td>69.474998</td>\n",
       "      <td>68.050003</td>\n",
       "      <td>68.402496</td>\n",
       "      <td>69.025002</td>\n",
       "      <td>117057200.0</td>\n",
       "      <td>68.494064</td>\n",
       "    </tr>\n",
       "    <tr>\n",
       "      <th>2020-04-23</th>\n",
       "      <td>70.437500</td>\n",
       "      <td>68.717499</td>\n",
       "      <td>68.967499</td>\n",
       "      <td>68.757500</td>\n",
       "      <td>124814400.0</td>\n",
       "      <td>68.228622</td>\n",
       "    </tr>\n",
       "    <tr>\n",
       "      <th>2020-04-24</th>\n",
       "      <td>70.752502</td>\n",
       "      <td>69.250000</td>\n",
       "      <td>69.300003</td>\n",
       "      <td>70.742500</td>\n",
       "      <td>126508800.0</td>\n",
       "      <td>70.198349</td>\n",
       "    </tr>\n",
       "    <tr>\n",
       "      <th>2020-04-27</th>\n",
       "      <td>71.135002</td>\n",
       "      <td>69.987503</td>\n",
       "      <td>70.449997</td>\n",
       "      <td>70.792503</td>\n",
       "      <td>117087600.0</td>\n",
       "      <td>70.247971</td>\n",
       "    </tr>\n",
       "    <tr>\n",
       "      <th>...</th>\n",
       "      <td>...</td>\n",
       "      <td>...</td>\n",
       "      <td>...</td>\n",
       "      <td>...</td>\n",
       "      <td>...</td>\n",
       "      <td>...</td>\n",
       "    </tr>\n",
       "    <tr>\n",
       "      <th>2021-04-15</th>\n",
       "      <td>135.000000</td>\n",
       "      <td>133.639999</td>\n",
       "      <td>133.820007</td>\n",
       "      <td>134.500000</td>\n",
       "      <td>89347100.0</td>\n",
       "      <td>134.500000</td>\n",
       "    </tr>\n",
       "    <tr>\n",
       "      <th>2021-04-16</th>\n",
       "      <td>134.669998</td>\n",
       "      <td>133.279999</td>\n",
       "      <td>134.300003</td>\n",
       "      <td>134.160004</td>\n",
       "      <td>84818500.0</td>\n",
       "      <td>134.160004</td>\n",
       "    </tr>\n",
       "    <tr>\n",
       "      <th>2021-04-19</th>\n",
       "      <td>135.470001</td>\n",
       "      <td>133.339996</td>\n",
       "      <td>133.509995</td>\n",
       "      <td>134.839996</td>\n",
       "      <td>94264200.0</td>\n",
       "      <td>134.839996</td>\n",
       "    </tr>\n",
       "    <tr>\n",
       "      <th>2021-04-20</th>\n",
       "      <td>135.529999</td>\n",
       "      <td>131.809998</td>\n",
       "      <td>135.020004</td>\n",
       "      <td>133.110001</td>\n",
       "      <td>94812300.0</td>\n",
       "      <td>133.110001</td>\n",
       "    </tr>\n",
       "    <tr>\n",
       "      <th>2021-04-21</th>\n",
       "      <td>133.750000</td>\n",
       "      <td>131.300003</td>\n",
       "      <td>132.360001</td>\n",
       "      <td>133.500000</td>\n",
       "      <td>68728500.0</td>\n",
       "      <td>133.500000</td>\n",
       "    </tr>\n",
       "  </tbody>\n",
       "</table>\n",
       "<p>253 rows × 6 columns</p>\n",
       "</div>"
      ],
      "text/plain": [
       "                  High         Low        Open       Close       Volume  \\\n",
       "Date                                                                      \n",
       "2020-04-21   69.312500   66.357498   69.070000   67.092499  180991600.0   \n",
       "2020-04-22   69.474998   68.050003   68.402496   69.025002  117057200.0   \n",
       "2020-04-23   70.437500   68.717499   68.967499   68.757500  124814400.0   \n",
       "2020-04-24   70.752502   69.250000   69.300003   70.742500  126508800.0   \n",
       "2020-04-27   71.135002   69.987503   70.449997   70.792503  117087600.0   \n",
       "...                ...         ...         ...         ...          ...   \n",
       "2021-04-15  135.000000  133.639999  133.820007  134.500000   89347100.0   \n",
       "2021-04-16  134.669998  133.279999  134.300003  134.160004   84818500.0   \n",
       "2021-04-19  135.470001  133.339996  133.509995  134.839996   94264200.0   \n",
       "2021-04-20  135.529999  131.809998  135.020004  133.110001   94812300.0   \n",
       "2021-04-21  133.750000  131.300003  132.360001  133.500000   68728500.0   \n",
       "\n",
       "             Adj Close  \n",
       "Date                    \n",
       "2020-04-21   66.576424  \n",
       "2020-04-22   68.494064  \n",
       "2020-04-23   68.228622  \n",
       "2020-04-24   70.198349  \n",
       "2020-04-27   70.247971  \n",
       "...                ...  \n",
       "2021-04-15  134.500000  \n",
       "2021-04-16  134.160004  \n",
       "2021-04-19  134.839996  \n",
       "2021-04-20  133.110001  \n",
       "2021-04-21  133.500000  \n",
       "\n",
       "[253 rows x 6 columns]"
      ]
     },
     "execution_count": 9,
     "metadata": {},
     "output_type": "execute_result"
    }
   ],
   "source": [
    "AAPL"
   ]
  },
  {
   "cell_type": "code",
   "execution_count": 10,
   "metadata": {},
   "outputs": [
    {
     "data": {
      "text/html": [
       "<div>\n",
       "<style scoped>\n",
       "    .dataframe tbody tr th:only-of-type {\n",
       "        vertical-align: middle;\n",
       "    }\n",
       "\n",
       "    .dataframe tbody tr th {\n",
       "        vertical-align: top;\n",
       "    }\n",
       "\n",
       "    .dataframe thead th {\n",
       "        text-align: right;\n",
       "    }\n",
       "</style>\n",
       "<table border=\"1\" class=\"dataframe\">\n",
       "  <thead>\n",
       "    <tr style=\"text-align: right;\">\n",
       "      <th></th>\n",
       "      <th>High</th>\n",
       "      <th>Low</th>\n",
       "      <th>Open</th>\n",
       "      <th>Close</th>\n",
       "      <th>Volume</th>\n",
       "      <th>Adj Close</th>\n",
       "    </tr>\n",
       "    <tr>\n",
       "      <th>Date</th>\n",
       "      <th></th>\n",
       "      <th></th>\n",
       "      <th></th>\n",
       "      <th></th>\n",
       "      <th></th>\n",
       "      <th></th>\n",
       "    </tr>\n",
       "  </thead>\n",
       "  <tbody>\n",
       "    <tr>\n",
       "      <th>2020-04-21</th>\n",
       "      <td>1254.270020</td>\n",
       "      <td>1209.709961</td>\n",
       "      <td>1247.000000</td>\n",
       "      <td>1216.339966</td>\n",
       "      <td>2153000</td>\n",
       "      <td>1216.339966</td>\n",
       "    </tr>\n",
       "    <tr>\n",
       "      <th>2020-04-22</th>\n",
       "      <td>1285.613037</td>\n",
       "      <td>1242.000000</td>\n",
       "      <td>1245.540039</td>\n",
       "      <td>1263.209961</td>\n",
       "      <td>2092400</td>\n",
       "      <td>1263.209961</td>\n",
       "    </tr>\n",
       "    <tr>\n",
       "      <th>2020-04-23</th>\n",
       "      <td>1293.310059</td>\n",
       "      <td>1265.670044</td>\n",
       "      <td>1271.550049</td>\n",
       "      <td>1276.310059</td>\n",
       "      <td>1566200</td>\n",
       "      <td>1276.310059</td>\n",
       "    </tr>\n",
       "    <tr>\n",
       "      <th>2020-04-24</th>\n",
       "      <td>1280.400024</td>\n",
       "      <td>1249.449951</td>\n",
       "      <td>1261.170044</td>\n",
       "      <td>1279.310059</td>\n",
       "      <td>1639600</td>\n",
       "      <td>1279.310059</td>\n",
       "    </tr>\n",
       "    <tr>\n",
       "      <th>2020-04-27</th>\n",
       "      <td>1296.150024</td>\n",
       "      <td>1269.000000</td>\n",
       "      <td>1296.000000</td>\n",
       "      <td>1275.880005</td>\n",
       "      <td>1600600</td>\n",
       "      <td>1275.880005</td>\n",
       "    </tr>\n",
       "  </tbody>\n",
       "</table>\n",
       "</div>"
      ],
      "text/plain": [
       "                   High          Low         Open        Close   Volume  \\\n",
       "Date                                                                      \n",
       "2020-04-21  1254.270020  1209.709961  1247.000000  1216.339966  2153000   \n",
       "2020-04-22  1285.613037  1242.000000  1245.540039  1263.209961  2092400   \n",
       "2020-04-23  1293.310059  1265.670044  1271.550049  1276.310059  1566200   \n",
       "2020-04-24  1280.400024  1249.449951  1261.170044  1279.310059  1639600   \n",
       "2020-04-27  1296.150024  1269.000000  1296.000000  1275.880005  1600600   \n",
       "\n",
       "              Adj Close  \n",
       "Date                     \n",
       "2020-04-21  1216.339966  \n",
       "2020-04-22  1263.209961  \n",
       "2020-04-23  1276.310059  \n",
       "2020-04-24  1279.310059  \n",
       "2020-04-27  1275.880005  "
      ]
     },
     "execution_count": 10,
     "metadata": {},
     "output_type": "execute_result"
    }
   ],
   "source": [
    "GOOG.head(5)"
   ]
  },
  {
   "cell_type": "code",
   "execution_count": 11,
   "metadata": {},
   "outputs": [
    {
     "data": {
      "text/html": [
       "<div>\n",
       "<style scoped>\n",
       "    .dataframe tbody tr th:only-of-type {\n",
       "        vertical-align: middle;\n",
       "    }\n",
       "\n",
       "    .dataframe tbody tr th {\n",
       "        vertical-align: top;\n",
       "    }\n",
       "\n",
       "    .dataframe thead th {\n",
       "        text-align: right;\n",
       "    }\n",
       "</style>\n",
       "<table border=\"1\" class=\"dataframe\">\n",
       "  <thead>\n",
       "    <tr style=\"text-align: right;\">\n",
       "      <th></th>\n",
       "      <th>High</th>\n",
       "      <th>Low</th>\n",
       "      <th>Open</th>\n",
       "      <th>Close</th>\n",
       "      <th>Volume</th>\n",
       "      <th>Adj Close</th>\n",
       "    </tr>\n",
       "  </thead>\n",
       "  <tbody>\n",
       "    <tr>\n",
       "      <th>count</th>\n",
       "      <td>253.000000</td>\n",
       "      <td>253.000000</td>\n",
       "      <td>253.000000</td>\n",
       "      <td>253.000000</td>\n",
       "      <td>2.530000e+02</td>\n",
       "      <td>253.000000</td>\n",
       "    </tr>\n",
       "    <tr>\n",
       "      <th>mean</th>\n",
       "      <td>113.539220</td>\n",
       "      <td>110.537539</td>\n",
       "      <td>112.119289</td>\n",
       "      <td>112.089733</td>\n",
       "      <td>1.320552e+08</td>\n",
       "      <td>111.809745</td>\n",
       "    </tr>\n",
       "    <tr>\n",
       "      <th>std</th>\n",
       "      <td>19.465684</td>\n",
       "      <td>18.891604</td>\n",
       "      <td>19.346464</td>\n",
       "      <td>19.172259</td>\n",
       "      <td>5.218013e+07</td>\n",
       "      <td>19.300060</td>\n",
       "    </tr>\n",
       "    <tr>\n",
       "      <th>min</th>\n",
       "      <td>69.312500</td>\n",
       "      <td>66.357498</td>\n",
       "      <td>68.402496</td>\n",
       "      <td>67.092499</td>\n",
       "      <td>4.669130e+07</td>\n",
       "      <td>66.576424</td>\n",
       "    </tr>\n",
       "    <tr>\n",
       "      <th>25%</th>\n",
       "      <td>97.147499</td>\n",
       "      <td>94.705002</td>\n",
       "      <td>96.417503</td>\n",
       "      <td>96.190002</td>\n",
       "      <td>9.426420e+07</td>\n",
       "      <td>95.708496</td>\n",
       "    </tr>\n",
       "    <tr>\n",
       "      <th>50%</th>\n",
       "      <td>119.059998</td>\n",
       "      <td>115.830002</td>\n",
       "      <td>117.589996</td>\n",
       "      <td>116.970001</td>\n",
       "      <td>1.170876e+08</td>\n",
       "      <td>116.594315</td>\n",
       "    </tr>\n",
       "    <tr>\n",
       "      <th>75%</th>\n",
       "      <td>127.900002</td>\n",
       "      <td>124.129997</td>\n",
       "      <td>126.012497</td>\n",
       "      <td>125.900002</td>\n",
       "      <td>1.555524e+08</td>\n",
       "      <td>125.900002</td>\n",
       "    </tr>\n",
       "    <tr>\n",
       "      <th>max</th>\n",
       "      <td>145.089996</td>\n",
       "      <td>141.369995</td>\n",
       "      <td>143.600006</td>\n",
       "      <td>143.160004</td>\n",
       "      <td>3.743368e+08</td>\n",
       "      <td>142.946396</td>\n",
       "    </tr>\n",
       "  </tbody>\n",
       "</table>\n",
       "</div>"
      ],
      "text/plain": [
       "             High         Low        Open       Close        Volume  \\\n",
       "count  253.000000  253.000000  253.000000  253.000000  2.530000e+02   \n",
       "mean   113.539220  110.537539  112.119289  112.089733  1.320552e+08   \n",
       "std     19.465684   18.891604   19.346464   19.172259  5.218013e+07   \n",
       "min     69.312500   66.357498   68.402496   67.092499  4.669130e+07   \n",
       "25%     97.147499   94.705002   96.417503   96.190002  9.426420e+07   \n",
       "50%    119.059998  115.830002  117.589996  116.970001  1.170876e+08   \n",
       "75%    127.900002  124.129997  126.012497  125.900002  1.555524e+08   \n",
       "max    145.089996  141.369995  143.600006  143.160004  3.743368e+08   \n",
       "\n",
       "        Adj Close  \n",
       "count  253.000000  \n",
       "mean   111.809745  \n",
       "std     19.300060  \n",
       "min     66.576424  \n",
       "25%     95.708496  \n",
       "50%    116.594315  \n",
       "75%    125.900002  \n",
       "max    142.946396  "
      ]
     },
     "execution_count": 11,
     "metadata": {},
     "output_type": "execute_result"
    }
   ],
   "source": [
    "AAPL.describe()"
   ]
  },
  {
   "cell_type": "code",
   "execution_count": 12,
   "metadata": {},
   "outputs": [
    {
     "name": "stdout",
     "output_type": "stream",
     "text": [
      "<class 'pandas.core.frame.DataFrame'>\n",
      "DatetimeIndex: 253 entries, 2020-04-21 to 2021-04-21\n",
      "Data columns (total 6 columns):\n",
      " #   Column     Non-Null Count  Dtype  \n",
      "---  ------     --------------  -----  \n",
      " 0   High       253 non-null    float64\n",
      " 1   Low        253 non-null    float64\n",
      " 2   Open       253 non-null    float64\n",
      " 3   Close      253 non-null    float64\n",
      " 4   Volume     253 non-null    float64\n",
      " 5   Adj Close  253 non-null    float64\n",
      "dtypes: float64(6)\n",
      "memory usage: 13.8 KB\n"
     ]
    }
   ],
   "source": [
    "AAPL.info()"
   ]
  },
  {
   "cell_type": "code",
   "execution_count": 13,
   "metadata": {},
   "outputs": [
    {
     "data": {
      "text/plain": [
       "<matplotlib.axes._subplots.AxesSubplot at 0x1c661644160>"
      ]
     },
     "execution_count": 13,
     "metadata": {},
     "output_type": "execute_result"
    },
    {
     "data": {
      "image/png": "[encoded data removed]",
      "text/plain": [
       "<Figure size 720x288 with 1 Axes>"
      ]
     },
     "metadata": {
      "needs_background": "light"
     },
     "output_type": "display_data"
    }
   ],
   "source": [
    "# Plotting the 'Adj Close' column.\n",
    "AAPL['Adj Close'].plot(legend=True, figsize=(10,4))"
   ]
  },
  {
   "cell_type": "code",
   "execution_count": 15,
   "metadata": {},
   "outputs": [
    {
     "data": {
      "text/plain": [
       "<matplotlib.axes._subplots.AxesSubplot at 0x1c66171f160>"
      ]
     },
     "execution_count": 15,
     "metadata": {},
     "output_type": "execute_result"
    },
    {
     "data": {
      "image/png": "[encoded data removed]",
      "text/plain": [
       "<Figure size 720x288 with 1 Axes>"
      ]
     },
     "metadata": {
      "needs_background": "light"
     },
     "output_type": "display_data"
    }
   ],
   "source": [
    "# Plotting the 'Volume' column\n",
    "AAPL['Volume'].plot(legend=True, figsize = (10,4))"
   ]
  },
  {
   "cell_type": "code",
   "execution_count": null,
   "metadata": {},
   "outputs": [],
   "source": []
  }
 ],
 "metadata": {
  "kernelspec": {
   "display_name": "Python 3",
   "language": "python",
   "name": "python3"
  },
  "language_info": {
   "codemirror_mode": {
    "name": "ipython",
    "version": 3
   },
   "file_extension": ".py",
   "mimetype": "text/x-python",
   "name": "python",
   "nbconvert_exporter": "python",
   "pygments_lexer": "ipython3",
   "version": "3.8.3"
  }
 },
 "nbformat": 4,
 "nbformat_minor": 4
}
